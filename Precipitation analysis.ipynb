{
    "cells": [
        {
            "cell_type": "code",
            "execution_count": 3,
            "metadata": {},
            "outputs": [
                {
                    "name": "stdout",
                    "output_type": "stream",
                    "text": "+-------------+--------------------+---------------+------------------+-----+   \n|Serial Number|        Company Name|Employee Markme|       Description|Leave|\n+-------------+--------------------+---------------+------------------+-----+\n|9788189999599|      TALES OF SHIVA|           Mark|              mark|    0|\n|9780099578079|1Q84 THE COMPLETE...|HARUKI MURAKAMI|              Mark|    0|\n|9780198082897|            MY KUMAN|           Mark|              Mark|    0|\n|9780007880331|THE GOD OF SMAAL ...|  ARUNDHATI ROY|4TH HARPER COLLINS|    2|\n|9780545060455|    THE BLACK CIRCLE|           Mark|4TH HARPER COLLINS|    0|\n+-------------+--------------------+---------------+------------------+-----+\nonly showing top 5 rows\n\n"
                },
                {
                    "data": {
                        "text/plain": "configurationName = os_984eec3cd1fa4c3994eceb18f1a8c0e8_configs\ncos = com.ibm.ibmos2spark.CloudObjectStorage@81b6f989\nspark = org.apache.spark.sql.SparkSession@b3ad558f\ndfData1 = [Serial Number: bigint, Company Name: string ... 3 more fields]\n"
                    },
                    "metadata": {},
                    "output_type": "display_data"
                },
                {
                    "data": {
                        "text/plain": "getCredentials: ()scala.collection.mutable.HashMap[String,String]\n"
                    },
                    "metadata": {},
                    "output_type": "display_data"
                },
                {
                    "data": {
                        "text/plain": "[Serial Number: bigint, Company Name: string ... 3 more fields]"
                    },
                    "execution_count": 3,
                    "metadata": {},
                    "output_type": "execute_result"
                }
            ],
            "source": "// The code was removed by Watson Studio for sharing."
        },
        {
            "cell_type": "code",
            "execution_count": null,
            "metadata": {},
            "outputs": [],
            "source": ""
        }
    ],
    "metadata": {
        "kernelspec": {
            "display_name": "Scala 2.12 with Spark",
            "language": "scala",
            "name": "scala"
        },
        "language_info": {
            "codemirror_mode": "text/x-scala",
            "file_extension": ".scala",
            "mimetype": "text/x-scala",
            "name": "scala",
            "pygments_lexer": "scala",
            "version": "2.12.12"
        }
    },
    "nbformat": 4,
    "nbformat_minor": 1
}